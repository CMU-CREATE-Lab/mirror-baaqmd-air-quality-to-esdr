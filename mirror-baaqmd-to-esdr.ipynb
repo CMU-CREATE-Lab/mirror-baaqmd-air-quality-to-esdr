{
 "metadata": {
  "name": "",
  "signature": "sha256:d6f08b9b9848c54e0fe8671556f487685d725b7fa0887a8c7aa13d5dcfffcf52"
 },
 "nbformat": 3,
 "nbformat_minor": 0,
 "worksheets": [
  {
   "cells": [
    {
     "cell_type": "code",
     "collapsed": false,
     "input": [
      "import re, urllib2\n",
      "\n",
      "# scrapy web scraper\n",
      "# To install, run\n",
      "# !pip install scrapy\n",
      "# then restart kernel\n",
      "# If you see an error about zope version, double-check that you restarted the kernel\n",
      "from scrapy.selector import Selector\n",
      "\n",
      "def exec_ipynb(url):\n",
      "    import json, re, urllib2\n",
      "    nb = (urllib2.urlopen(url) if re.match(r'https?:', url) else open(url)).read()\n",
      "    exec '\\n'.join([''.join(cell['input']) for cell in json.loads(nb)['worksheets'][0]['cells'] if cell['cell_type'] == 'code']) in globals()\n",
      "\n",
      "exec_ipynb('python-utils/esdr-library.ipynb')"
     ],
     "language": "python",
     "metadata": {},
     "outputs": [],
     "prompt_number": 6
    },
    {
     "cell_type": "code",
     "collapsed": false,
     "input": [
      "Esdr.create_client('timemachine1_baaqmd_uploader')"
     ],
     "language": "python",
     "metadata": {},
     "outputs": [
      {
       "ename": "HTTPError",
       "evalue": "HTTP Error 401: Unauthorized",
       "output_type": "pyerr",
       "traceback": [
        "\u001b[1;31m---------------------------------------------------------------------------\u001b[0m\n\u001b[1;31mHTTPError\u001b[0m                                 Traceback (most recent call last)",
        "\u001b[1;32m<ipython-input-7-c7e7f8838fcb>\u001b[0m in \u001b[0;36m<module>\u001b[1;34m()\u001b[0m\n\u001b[1;32m----> 1\u001b[1;33m \u001b[0mEsdr\u001b[0m\u001b[1;33m.\u001b[0m\u001b[0mcreate_client\u001b[0m\u001b[1;33m(\u001b[0m\u001b[1;34m'timemachine1_baaqmd_uploader'\u001b[0m\u001b[1;33m)\u001b[0m\u001b[1;33m\u001b[0m\u001b[0m\n\u001b[0m",
        "\u001b[1;32m<string>\u001b[0m in \u001b[0;36mcreate_client\u001b[1;34m(client_name)\u001b[0m\n",
        "\u001b[1;32m/home/rsargent/anaconda/lib/python2.7/urllib2.pyc\u001b[0m in \u001b[0;36murlopen\u001b[1;34m(url, data, timeout)\u001b[0m\n\u001b[0;32m    125\u001b[0m     \u001b[1;32mif\u001b[0m \u001b[0m_opener\u001b[0m \u001b[1;32mis\u001b[0m \u001b[0mNone\u001b[0m\u001b[1;33m:\u001b[0m\u001b[1;33m\u001b[0m\u001b[0m\n\u001b[0;32m    126\u001b[0m         \u001b[0m_opener\u001b[0m \u001b[1;33m=\u001b[0m \u001b[0mbuild_opener\u001b[0m\u001b[1;33m(\u001b[0m\u001b[1;33m)\u001b[0m\u001b[1;33m\u001b[0m\u001b[0m\n\u001b[1;32m--> 127\u001b[1;33m     \u001b[1;32mreturn\u001b[0m \u001b[0m_opener\u001b[0m\u001b[1;33m.\u001b[0m\u001b[0mopen\u001b[0m\u001b[1;33m(\u001b[0m\u001b[0murl\u001b[0m\u001b[1;33m,\u001b[0m \u001b[0mdata\u001b[0m\u001b[1;33m,\u001b[0m \u001b[0mtimeout\u001b[0m\u001b[1;33m)\u001b[0m\u001b[1;33m\u001b[0m\u001b[0m\n\u001b[0m\u001b[0;32m    128\u001b[0m \u001b[1;33m\u001b[0m\u001b[0m\n\u001b[0;32m    129\u001b[0m \u001b[1;32mdef\u001b[0m \u001b[0minstall_opener\u001b[0m\u001b[1;33m(\u001b[0m\u001b[0mopener\u001b[0m\u001b[1;33m)\u001b[0m\u001b[1;33m:\u001b[0m\u001b[1;33m\u001b[0m\u001b[0m\n",
        "\u001b[1;32m/home/rsargent/anaconda/lib/python2.7/urllib2.pyc\u001b[0m in \u001b[0;36mopen\u001b[1;34m(self, fullurl, data, timeout)\u001b[0m\n\u001b[0;32m    408\u001b[0m         \u001b[1;32mfor\u001b[0m \u001b[0mprocessor\u001b[0m \u001b[1;32min\u001b[0m \u001b[0mself\u001b[0m\u001b[1;33m.\u001b[0m\u001b[0mprocess_response\u001b[0m\u001b[1;33m.\u001b[0m\u001b[0mget\u001b[0m\u001b[1;33m(\u001b[0m\u001b[0mprotocol\u001b[0m\u001b[1;33m,\u001b[0m \u001b[1;33m[\u001b[0m\u001b[1;33m]\u001b[0m\u001b[1;33m)\u001b[0m\u001b[1;33m:\u001b[0m\u001b[1;33m\u001b[0m\u001b[0m\n\u001b[0;32m    409\u001b[0m             \u001b[0mmeth\u001b[0m \u001b[1;33m=\u001b[0m \u001b[0mgetattr\u001b[0m\u001b[1;33m(\u001b[0m\u001b[0mprocessor\u001b[0m\u001b[1;33m,\u001b[0m \u001b[0mmeth_name\u001b[0m\u001b[1;33m)\u001b[0m\u001b[1;33m\u001b[0m\u001b[0m\n\u001b[1;32m--> 410\u001b[1;33m             \u001b[0mresponse\u001b[0m \u001b[1;33m=\u001b[0m \u001b[0mmeth\u001b[0m\u001b[1;33m(\u001b[0m\u001b[0mreq\u001b[0m\u001b[1;33m,\u001b[0m \u001b[0mresponse\u001b[0m\u001b[1;33m)\u001b[0m\u001b[1;33m\u001b[0m\u001b[0m\n\u001b[0m\u001b[0;32m    411\u001b[0m \u001b[1;33m\u001b[0m\u001b[0m\n\u001b[0;32m    412\u001b[0m         \u001b[1;32mreturn\u001b[0m \u001b[0mresponse\u001b[0m\u001b[1;33m\u001b[0m\u001b[0m\n",
        "\u001b[1;32m/home/rsargent/anaconda/lib/python2.7/urllib2.pyc\u001b[0m in \u001b[0;36mhttp_response\u001b[1;34m(self, request, response)\u001b[0m\n\u001b[0;32m    521\u001b[0m         \u001b[1;32mif\u001b[0m \u001b[1;32mnot\u001b[0m \u001b[1;33m(\u001b[0m\u001b[1;36m200\u001b[0m \u001b[1;33m<=\u001b[0m \u001b[0mcode\u001b[0m \u001b[1;33m<\u001b[0m \u001b[1;36m300\u001b[0m\u001b[1;33m)\u001b[0m\u001b[1;33m:\u001b[0m\u001b[1;33m\u001b[0m\u001b[0m\n\u001b[0;32m    522\u001b[0m             response = self.parent.error(\n\u001b[1;32m--> 523\u001b[1;33m                 'http', request, response, code, msg, hdrs)\n\u001b[0m\u001b[0;32m    524\u001b[0m \u001b[1;33m\u001b[0m\u001b[0m\n\u001b[0;32m    525\u001b[0m         \u001b[1;32mreturn\u001b[0m \u001b[0mresponse\u001b[0m\u001b[1;33m\u001b[0m\u001b[0m\n",
        "\u001b[1;32m/home/rsargent/anaconda/lib/python2.7/urllib2.pyc\u001b[0m in \u001b[0;36merror\u001b[1;34m(self, proto, *args)\u001b[0m\n\u001b[0;32m    446\u001b[0m         \u001b[1;32mif\u001b[0m \u001b[0mhttp_err\u001b[0m\u001b[1;33m:\u001b[0m\u001b[1;33m\u001b[0m\u001b[0m\n\u001b[0;32m    447\u001b[0m             \u001b[0margs\u001b[0m \u001b[1;33m=\u001b[0m \u001b[1;33m(\u001b[0m\u001b[0mdict\u001b[0m\u001b[1;33m,\u001b[0m \u001b[1;34m'default'\u001b[0m\u001b[1;33m,\u001b[0m \u001b[1;34m'http_error_default'\u001b[0m\u001b[1;33m)\u001b[0m \u001b[1;33m+\u001b[0m \u001b[0morig_args\u001b[0m\u001b[1;33m\u001b[0m\u001b[0m\n\u001b[1;32m--> 448\u001b[1;33m             \u001b[1;32mreturn\u001b[0m \u001b[0mself\u001b[0m\u001b[1;33m.\u001b[0m\u001b[0m_call_chain\u001b[0m\u001b[1;33m(\u001b[0m\u001b[1;33m*\u001b[0m\u001b[0margs\u001b[0m\u001b[1;33m)\u001b[0m\u001b[1;33m\u001b[0m\u001b[0m\n\u001b[0m\u001b[0;32m    449\u001b[0m \u001b[1;33m\u001b[0m\u001b[0m\n\u001b[0;32m    450\u001b[0m \u001b[1;31m# XXX probably also want an abstract factory that knows when it makes\u001b[0m\u001b[1;33m\u001b[0m\u001b[1;33m\u001b[0m\u001b[0m\n",
        "\u001b[1;32m/home/rsargent/anaconda/lib/python2.7/urllib2.pyc\u001b[0m in \u001b[0;36m_call_chain\u001b[1;34m(self, chain, kind, meth_name, *args)\u001b[0m\n\u001b[0;32m    380\u001b[0m             \u001b[0mfunc\u001b[0m \u001b[1;33m=\u001b[0m \u001b[0mgetattr\u001b[0m\u001b[1;33m(\u001b[0m\u001b[0mhandler\u001b[0m\u001b[1;33m,\u001b[0m \u001b[0mmeth_name\u001b[0m\u001b[1;33m)\u001b[0m\u001b[1;33m\u001b[0m\u001b[0m\n\u001b[0;32m    381\u001b[0m \u001b[1;33m\u001b[0m\u001b[0m\n\u001b[1;32m--> 382\u001b[1;33m             \u001b[0mresult\u001b[0m \u001b[1;33m=\u001b[0m \u001b[0mfunc\u001b[0m\u001b[1;33m(\u001b[0m\u001b[1;33m*\u001b[0m\u001b[0margs\u001b[0m\u001b[1;33m)\u001b[0m\u001b[1;33m\u001b[0m\u001b[0m\n\u001b[0m\u001b[0;32m    383\u001b[0m             \u001b[1;32mif\u001b[0m \u001b[0mresult\u001b[0m \u001b[1;32mis\u001b[0m \u001b[1;32mnot\u001b[0m \u001b[0mNone\u001b[0m\u001b[1;33m:\u001b[0m\u001b[1;33m\u001b[0m\u001b[0m\n\u001b[0;32m    384\u001b[0m                 \u001b[1;32mreturn\u001b[0m \u001b[0mresult\u001b[0m\u001b[1;33m\u001b[0m\u001b[0m\n",
        "\u001b[1;32m/home/rsargent/anaconda/lib/python2.7/urllib2.pyc\u001b[0m in \u001b[0;36mhttp_error_default\u001b[1;34m(self, req, fp, code, msg, hdrs)\u001b[0m\n\u001b[0;32m    529\u001b[0m \u001b[1;32mclass\u001b[0m \u001b[0mHTTPDefaultErrorHandler\u001b[0m\u001b[1;33m(\u001b[0m\u001b[0mBaseHandler\u001b[0m\u001b[1;33m)\u001b[0m\u001b[1;33m:\u001b[0m\u001b[1;33m\u001b[0m\u001b[0m\n\u001b[0;32m    530\u001b[0m     \u001b[1;32mdef\u001b[0m \u001b[0mhttp_error_default\u001b[0m\u001b[1;33m(\u001b[0m\u001b[0mself\u001b[0m\u001b[1;33m,\u001b[0m \u001b[0mreq\u001b[0m\u001b[1;33m,\u001b[0m \u001b[0mfp\u001b[0m\u001b[1;33m,\u001b[0m \u001b[0mcode\u001b[0m\u001b[1;33m,\u001b[0m \u001b[0mmsg\u001b[0m\u001b[1;33m,\u001b[0m \u001b[0mhdrs\u001b[0m\u001b[1;33m)\u001b[0m\u001b[1;33m:\u001b[0m\u001b[1;33m\u001b[0m\u001b[0m\n\u001b[1;32m--> 531\u001b[1;33m         \u001b[1;32mraise\u001b[0m \u001b[0mHTTPError\u001b[0m\u001b[1;33m(\u001b[0m\u001b[0mreq\u001b[0m\u001b[1;33m.\u001b[0m\u001b[0mget_full_url\u001b[0m\u001b[1;33m(\u001b[0m\u001b[1;33m)\u001b[0m\u001b[1;33m,\u001b[0m \u001b[0mcode\u001b[0m\u001b[1;33m,\u001b[0m \u001b[0mmsg\u001b[0m\u001b[1;33m,\u001b[0m \u001b[0mhdrs\u001b[0m\u001b[1;33m,\u001b[0m \u001b[0mfp\u001b[0m\u001b[1;33m)\u001b[0m\u001b[1;33m\u001b[0m\u001b[0m\n\u001b[0m\u001b[0;32m    532\u001b[0m \u001b[1;33m\u001b[0m\u001b[0m\n\u001b[0;32m    533\u001b[0m \u001b[1;32mclass\u001b[0m \u001b[0mHTTPRedirectHandler\u001b[0m\u001b[1;33m(\u001b[0m\u001b[0mBaseHandler\u001b[0m\u001b[1;33m)\u001b[0m\u001b[1;33m:\u001b[0m\u001b[1;33m\u001b[0m\u001b[0m\n",
        "\u001b[1;31mHTTPError\u001b[0m: HTTP Error 401: Unauthorized"
       ]
      }
     ],
     "prompt_number": 7
    },
    {
     "cell_type": "code",
     "collapsed": false,
     "input": [
      "def getParams(paramType):\n",
      "    # paramType is tech or met\n",
      "    url = \"http://www.baaqmd.gov/Divisions/Technical-Services/Ambient-Air-Monitoring/Air-Monitoring-Data.aspx?DataViewFormat=daily&DataView=%s\" % paramType\n",
      "    body = urllib2.urlopen(url).read()\n",
      "    selector = Selector(text = body)\n",
      "    ids = selector.xpath('//select[contains(@name, \"MeasurementSelect\")]/option/@value').extract()\n",
      "    names = selector.xpath('//select[contains(@name, \"MeasurementSelect\")]/option/text()').extract()\n",
      "    parameters = dict(zip(ids, names))\n",
      "    print 'Found %s params from %s: %s' % (paramType, url, parameters)\n",
      "    return parameters\n",
      "\n",
      "p=getParams('tech')\n",
      "getParams('met')\n",
      "1"
     ],
     "language": "python",
     "metadata": {},
     "outputs": [
      {
       "output_type": "stream",
       "stream": "stdout",
       "text": [
        "Found tech params from http://www.baaqmd.gov/Divisions/Technical-Services/Ambient-Air-Monitoring/Air-Monitoring-Data.aspx?DataViewFormat=daily&DataView=tech: {u'11': u'Methane (CH4)', u'13': u'Carbon Monoxide (CO)', u'59': u'Ozone (O3)', u'342': u'Hydrogen Sulfide (H2S)', u'49': u'Oxides of Nitrogen (NOx)', u'46': u'Nitric Oxide (NO)', u'44': u'Non-Methane Hydrocarbons (NMHC)', u'316': u'PM2.5', u'126': u'Nitrogen Dioxide (NO2)', u'127': u'Sulfur Dioxide (SO2)', u'9': u'Black Carbon (BC)'}\n",
        "Found met params from http://www.baaqmd.gov/Divisions/Technical-Services/Ambient-Air-Monitoring/Air-Monitoring-Data.aspx?DataViewFormat=daily&DataView=met: {u'203': u'Wind Speed', u'205': u'Relative Humidity', u'204': u'Wind Direction', u'207': u'Pressure', u'209': u'Precipitation', u'208': u'Solar Radiation', u'226': u'Sigma Theta', u'199': u'Ambient Temperature', u'221': u'Maximum Wind Gust'}"
       ]
      },
      {
       "output_type": "stream",
       "stream": "stdout",
       "text": [
        "\n"
       ]
      },
      {
       "metadata": {},
       "output_type": "pyout",
       "prompt_number": 3,
       "text": [
        "1"
       ]
      }
     ],
     "prompt_number": 3
    },
    {
     "cell_type": "code",
     "collapsed": false,
     "input": [
      "p['59']"
     ],
     "language": "python",
     "metadata": {},
     "outputs": [
      {
       "metadata": {},
       "output_type": "pyout",
       "prompt_number": 4,
       "text": [
        "u'Ozone (O3)'"
       ]
      }
     ],
     "prompt_number": 4
    },
    {
     "cell_type": "code",
     "collapsed": false,
     "input": [
      "def getParamFromAllSites(paramType, paramId, date):\n",
      "    url = 'http://www.baaqmd.gov/Divisions/Technical-Services/Ambient-Air-Monitoring/Air-Monitoring-Data.aspx?DataViewFormat=daily&DataView=%s&StartDate=%s&ParameterId=%s' % (paramType, date, paramId)\n",
      "    print url\n",
      "    body = urllib2.urlopen(url).read()\n",
      "    selector = Selector(text = body)\n",
      "    sites = selector.xpath('//tr[count(td)>=25]')\n",
      "    for site in sites:\n",
      "        sitename = site.xpath('td/a/text()')[0].extract()\n",
      "        values = [float(value) for value in sites[0].xpath('td/div[@class=\"cData\"]/text()').extract()]\n",
      "        print sitename, values\n",
      "\n",
      "getParamFromAllSites('tech', '59', '5/22/2015')"
     ],
     "language": "python",
     "metadata": {},
     "outputs": [
      {
       "output_type": "stream",
       "stream": "stdout",
       "text": [
        "http://www.baaqmd.gov/Divisions/Technical-Services/Ambient-Air-Monitoring/Air-Monitoring-Data.aspx?DataViewFormat=daily&DataView=tech&StartDate=5/22/2015&ParameterId=59\n",
        "Napa"
       ]
      },
      {
       "output_type": "stream",
       "stream": "stdout",
       "text": [
        " [18.0, 21.0, 17.0, 3.0, 3.0, 17.0, 19.0, 26.0, 29.0, 33.0]\n",
        "San Rafael [18.0, 21.0, 17.0, 3.0, 3.0, 17.0, 19.0, 26.0, 29.0, 33.0]\n",
        "Sebastopol [18.0, 21.0, 17.0, 3.0, 3.0, 17.0, 19.0, 26.0, 29.0, 33.0]\n",
        "Vallejo [18.0, 21.0, 17.0, 3.0, 3.0, 17.0, 19.0, 26.0, 29.0, 33.0]\n",
        "Oakland East [18.0, 21.0, 17.0, 3.0, 3.0, 17.0, 19.0, 26.0, 29.0, 33.0]\n",
        "Oakland West [18.0, 21.0, 17.0, 3.0, 3.0, 17.0, 19.0, 26.0, 29.0, 33.0]\n",
        "San Francisco - Arkansas St. [18.0, 21.0, 17.0, 3.0, 3.0, 17.0, 19.0, 26.0, 29.0, 33.0]\n",
        "San Pablo - Rumrill [18.0, 21.0, 17.0, 3.0, 3.0, 17.0, 19.0, 26.0, 29.0, 33.0]\n",
        "Bethel Island [18.0, 21.0, 17.0, 3.0, 3.0, 17.0, 19.0, 26.0, 29.0, 33.0]\n",
        "Concord [18.0, 21.0, 17.0, 3.0, 3.0, 17.0, 19.0, 26.0, 29.0, 33.0]\n",
        "Fairfield - Chadbourne Rd. [18.0, 21.0, 17.0, 3.0, 3.0, 17.0, 19.0, 26.0, 29.0, 33.0]\n",
        "Livermore - Rincon Ave. [18.0, 21.0, 17.0, 3.0, 3.0, 17.0, 19.0, 26.0, 29.0, 33.0]\n",
        "San Ramon [18.0, 21.0, 17.0, 3.0, 3.0, 17.0, 19.0, 26.0, 29.0, 33.0]\n",
        "Hayward [18.0, 21.0, 17.0, 3.0, 3.0, 17.0, 19.0, 26.0, 29.0, 33.0]\n",
        "Redwood City [18.0, 21.0, 17.0, 3.0, 3.0, 17.0, 19.0, 26.0, 29.0, 33.0]\n",
        "Gilroy [18.0, 21.0, 17.0, 3.0, 3.0, 17.0, 19.0, 26.0, 29.0, 33.0]\n",
        "Los Gatos [18.0, 21.0, 17.0, 3.0, 3.0, 17.0, 19.0, 26.0, 29.0, 33.0]\n",
        "San Jose - Jackson St. [18.0, 21.0, 17.0, 3.0, 3.0, 17.0, 19.0, 26.0, 29.0, 33.0]\n",
        "San Martin-Airport [18.0, 21.0, 17.0, 3.0, 3.0, 17.0, 19.0, 26.0, 29.0, 33.0]\n"
       ]
      }
     ],
     "prompt_number": 5
    },
    {
     "cell_type": "code",
     "collapsed": false,
     "input": [],
     "language": "python",
     "metadata": {},
     "outputs": [],
     "prompt_number": 81
    },
    {
     "cell_type": "code",
     "collapsed": false,
     "input": [],
     "language": "python",
     "metadata": {},
     "outputs": [],
     "prompt_number": 94
    },
    {
     "cell_type": "code",
     "collapsed": false,
     "input": [
      "for site in sites:\n",
      "    sitename = site.xpath('td/a/text()')[0].extract()\n",
      "    values = [float(value) for value in sites[0].xpath('td/div[@class=\"cData\"]/text()').extract()]\n",
      "    print sitename, values"
     ],
     "language": "python",
     "metadata": {},
     "outputs": [
      {
       "output_type": "stream",
       "stream": "stdout",
       "text": [
        "Napa [34.0, 34.0, 35.0, 33.0, 29.0, 24.0, 27.0, 27.0, 26.0, 27.0, 30.0, 33.0, 40.0, 41.0, 40.0]\n",
        "San Rafael [34.0, 34.0, 35.0, 33.0, 29.0, 24.0, 27.0, 27.0, 26.0, 27.0, 30.0, 33.0, 40.0, 41.0, 40.0]\n",
        "Sebastopol [34.0, 34.0, 35.0, 33.0, 29.0, 24.0, 27.0, 27.0, 26.0, 27.0, 30.0, 33.0, 40.0, 41.0, 40.0]\n",
        "Vallejo [34.0, 34.0, 35.0, 33.0, 29.0, 24.0, 27.0, 27.0, 26.0, 27.0, 30.0, 33.0, 40.0, 41.0, 40.0]\n",
        "Oakland East [34.0, 34.0, 35.0, 33.0, 29.0, 24.0, 27.0, 27.0, 26.0, 27.0, 30.0, 33.0, 40.0, 41.0, 40.0]\n",
        "Oakland West [34.0, 34.0, 35.0, 33.0, 29.0, 24.0, 27.0, 27.0, 26.0, 27.0, 30.0, 33.0, 40.0, 41.0, 40.0]\n",
        "San Francisco - Arkansas St. [34.0, 34.0, 35.0, 33.0, 29.0, 24.0, 27.0, 27.0, 26.0, 27.0, 30.0, 33.0, 40.0, 41.0, 40.0]\n",
        "San Pablo - Rumrill [34.0, 34.0, 35.0, 33.0, 29.0, 24.0, 27.0, 27.0, 26.0, 27.0, 30.0, 33.0, 40.0, 41.0, 40.0]\n",
        "Bethel Island [34.0, 34.0, 35.0, 33.0, 29.0, 24.0, 27.0, 27.0, 26.0, 27.0, 30.0, 33.0, 40.0, 41.0, 40.0]\n",
        "Concord [34.0, 34.0, 35.0, 33.0, 29.0, 24.0, 27.0, 27.0, 26.0, 27.0, 30.0, 33.0, 40.0, 41.0, 40.0]\n",
        "Fairfield - Chadbourne Rd. [34.0, 34.0, 35.0, 33.0, 29.0, 24.0, 27.0, 27.0, 26.0, 27.0, 30.0, 33.0, 40.0, 41.0, 40.0]\n",
        "Livermore - Rincon Ave. [34.0, 34.0, 35.0, 33.0, 29.0, 24.0, 27.0, 27.0, 26.0, 27.0, 30.0, 33.0, 40.0, 41.0, 40.0]\n",
        "San Ramon [34.0, 34.0, 35.0, 33.0, 29.0, 24.0, 27.0, 27.0, 26.0, 27.0, 30.0, 33.0, 40.0, 41.0, 40.0]\n",
        "Hayward [34.0, 34.0, 35.0, 33.0, 29.0, 24.0, 27.0, 27.0, 26.0, 27.0, 30.0, 33.0, 40.0, 41.0, 40.0]\n",
        "Redwood City [34.0, 34.0, 35.0, 33.0, 29.0, 24.0, 27.0, 27.0, 26.0, 27.0, 30.0, 33.0, 40.0, 41.0, 40.0]\n",
        "Gilroy [34.0, 34.0, 35.0, 33.0, 29.0, 24.0, 27.0, 27.0, 26.0, 27.0, 30.0, 33.0, 40.0, 41.0, 40.0]\n",
        "Los Gatos [34.0, 34.0, 35.0, 33.0, 29.0, 24.0, 27.0, 27.0, 26.0, 27.0, 30.0, 33.0, 40.0, 41.0, 40.0]\n",
        "San Jose - Jackson St. [34.0, 34.0, 35.0, 33.0, 29.0, 24.0, 27.0, 27.0, 26.0, 27.0, 30.0, 33.0, 40.0, 41.0, 40.0]\n",
        "San Martin-Airport [34.0, 34.0, 35.0, 33.0, 29.0, 24.0, 27.0, 27.0, 26.0, 27.0, 30.0, 33.0, 40.0, 41.0, 40.0]\n"
       ]
      }
     ],
     "prompt_number": 105
    },
    {
     "cell_type": "code",
     "collapsed": false,
     "input": [
      "sites[0]"
     ],
     "language": "python",
     "metadata": {},
     "outputs": [
      {
       "metadata": {},
       "output_type": "pyout",
       "prompt_number": 93,
       "text": [
        "<Selector xpath='//tr[count(td)>=25]' data=u'<tr class=\"dataSep\">\\r\\n        <td class='>"
       ]
      }
     ],
     "prompt_number": 93
    },
    {
     "cell_type": "code",
     "collapsed": false,
     "input": [
      "sites[0].xpath('td/div[@class=\"cData\"]/text()').extract()"
     ],
     "language": "python",
     "metadata": {},
     "outputs": [
      {
       "metadata": {},
       "output_type": "pyout",
       "prompt_number": 103,
       "text": [
        "[u'34',\n",
        " u'34',\n",
        " u'35',\n",
        " u'33',\n",
        " u'29',\n",
        " u'24',\n",
        " u'27',\n",
        " u'27',\n",
        " u'26',\n",
        " u'27',\n",
        " u'30',\n",
        " u'33',\n",
        " u'40',\n",
        " u'41',\n",
        " u'40']"
       ]
      }
     ],
     "prompt_number": 103
    },
    {
     "cell_type": "code",
     "collapsed": false,
     "input": [],
     "language": "python",
     "metadata": {},
     "outputs": []
    }
   ],
   "metadata": {}
  }
 ]
}