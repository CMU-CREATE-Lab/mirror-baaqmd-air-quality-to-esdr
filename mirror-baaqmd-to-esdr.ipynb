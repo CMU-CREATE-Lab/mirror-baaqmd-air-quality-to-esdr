{
 "metadata": {
  "name": "",
  "signature": "sha256:79e482100a718598b6443476b253f8ac712bcec73b7e9faad36868ebbf937bd8"
 },
 "nbformat": 3,
 "nbformat_minor": 0,
 "worksheets": [
  {
   "cells": [
    {
     "cell_type": "code",
     "collapsed": false,
     "input": [
      "import re, urllib2"
     ],
     "language": "python",
     "metadata": {},
     "outputs": [],
     "prompt_number": 4
    },
    {
     "cell_type": "code",
     "collapsed": false,
     "input": [
      "# scrapy web scraper\n",
      "# To install, run\n",
      "# !pip install scrapy\n",
      "# then restart kernel\n",
      "# If you see an error about zope version, double-check that you restarted the kernel\n",
      "from scrapy.selector import Selector"
     ],
     "language": "python",
     "metadata": {},
     "outputs": [],
     "prompt_number": 5
    },
    {
     "cell_type": "code",
     "collapsed": false,
     "input": [
      "paramType = 'tech'\n",
      "url = \"http://www.baaqmd.gov/Divisions/Technical-Services/Ambient-Air-Monitoring/Air-Monitoring-Data.aspx?DataViewFormat=daily&DataView=%s\" % paramType\n",
      "body = urllib2.urlopen(url).read()\n",
      "selector = Selector(text = body)\n",
      "\n",
      "open('out.html', 'w').write(body)\n",
      "\n",
      "#    parameterBody = re.search(r'<select name=\".*?MeasurementSelect.*?\">(.*?)</select>', body, re.DOTALL).group(1)\n",
      "#    parameters = {match.group(1):match.group(2) for match in re.finditer(r'<option.*?value=\"(.*?)\">(.*?)<', parameterBody)}\n",
      "#    print 'Found %s params from %s: %s' % (paramType, url, parameters)\n",
      "#    return parameters\n"
     ],
     "language": "python",
     "metadata": {},
     "outputs": [],
     "prompt_number": 11
    },
    {
     "cell_type": "code",
     "collapsed": false,
     "input": [
      "selector"
     ],
     "language": "python",
     "metadata": {},
     "outputs": [
      {
       "metadata": {},
       "output_type": "pyout",
       "prompt_number": 8,
       "text": [
        "<Selector xpath=None data=u'<html xmlns=\"http://www.w3.org/1999/xhtm'>"
       ]
      }
     ],
     "prompt_number": 8
    },
    {
     "cell_type": "code",
     "collapsed": false,
     "input": [],
     "language": "python",
     "metadata": {},
     "outputs": [
      {
       "output_type": "stream",
       "stream": "stdout",
       "text": [
        "[u'9', u'13', u'342', u'11', u'46', u'126', u'44', u'49', u'59', u'316', u'127']\n",
        "[u'Black Carbon (BC)', u'Carbon Monoxide (CO)', u'Hydrogen Sulfide (H2S)', u'Methane (CH4)', u'Nitric Oxide (NO)', u'Nitrogen Dioxide (NO2)', u'Non-Methane Hydrocarbons (NMHC)', u'Oxides of Nitrogen (NOx)', u'Ozone (O3)', u'PM2.5', u'Sulfur Dioxide (SO2)']\n"
       ]
      },
      {
       "metadata": {},
       "output_type": "pyout",
       "prompt_number": 36,
       "text": [
        "{u'11': u'Methane (CH4)',\n",
        " u'126': u'Nitrogen Dioxide (NO2)',\n",
        " u'127': u'Sulfur Dioxide (SO2)',\n",
        " u'13': u'Carbon Monoxide (CO)',\n",
        " u'316': u'PM2.5',\n",
        " u'342': u'Hydrogen Sulfide (H2S)',\n",
        " u'44': u'Non-Methane Hydrocarbons (NMHC)',\n",
        " u'46': u'Nitric Oxide (NO)',\n",
        " u'49': u'Oxides of Nitrogen (NOx)',\n",
        " u'59': u'Ozone (O3)',\n",
        " u'9': u'Black Carbon (BC)'}"
       ]
      }
     ],
     "prompt_number": 36
    },
    {
     "cell_type": "code",
     "collapsed": false,
     "input": [
      "def getParams(paramType):\n",
      "    # paramType is tech or met\n",
      "    url = \"http://www.baaqmd.gov/Divisions/Technical-Services/Ambient-Air-Monitoring/Air-Monitoring-Data.aspx?DataViewFormat=daily&DataView=%s\" % paramType\n",
      "    body = urllib2.urlopen(url).read()\n",
      "    selector = Selector(text = body)\n",
      "    ids = selector.xpath('//select[contains(@name, \"MeasurementSelect\")]/option/@value').extract()\n",
      "    names = selector.xpath('//select[contains(@name, \"MeasurementSelect\")]/option/text()').extract()\n",
      "    parameters = dict(zip(ids, names))\n",
      "    print 'Found %s params from %s: %s' % (paramType, url, parameters)\n",
      "    return parameters\n",
      "\n",
      "p=getParams('tech')\n",
      "getParams('met')\n",
      "1"
     ],
     "language": "python",
     "metadata": {},
     "outputs": [
      {
       "output_type": "stream",
       "stream": "stdout",
       "text": [
        "Found tech params from http://www.baaqmd.gov/Divisions/Technical-Services/Ambient-Air-Monitoring/Air-Monitoring-Data.aspx?DataViewFormat=daily&DataView=tech: {u'11': u'Methane (CH4)', u'13': u'Carbon Monoxide (CO)', u'59': u'Ozone (O3)', u'342': u'Hydrogen Sulfide (H2S)', u'49': u'Oxides of Nitrogen (NOx)', u'46': u'Nitric Oxide (NO)', u'44': u'Non-Methane Hydrocarbons (NMHC)', u'316': u'PM2.5', u'126': u'Nitrogen Dioxide (NO2)', u'127': u'Sulfur Dioxide (SO2)', u'9': u'Black Carbon (BC)'}\n",
        "Found met params from http://www.baaqmd.gov/Divisions/Technical-Services/Ambient-Air-Monitoring/Air-Monitoring-Data.aspx?DataViewFormat=daily&DataView=met: {u'203': u'Wind Speed', u'205': u'Relative Humidity', u'204': u'Wind Direction', u'207': u'Pressure', u'209': u'Precipitation', u'208': u'Solar Radiation', u'226': u'Sigma Theta', u'199': u'Ambient Temperature', u'221': u'Maximum Wind Gust'}"
       ]
      },
      {
       "output_type": "stream",
       "stream": "stdout",
       "text": [
        "\n"
       ]
      },
      {
       "metadata": {},
       "output_type": "pyout",
       "prompt_number": 41,
       "text": [
        "1"
       ]
      }
     ],
     "prompt_number": 41
    },
    {
     "cell_type": "code",
     "collapsed": false,
     "input": [
      "p['59']"
     ],
     "language": "python",
     "metadata": {},
     "outputs": [
      {
       "metadata": {},
       "output_type": "pyout",
       "prompt_number": 39,
       "text": [
        "u'Ozone (O3)'"
       ]
      }
     ],
     "prompt_number": 39
    },
    {
     "cell_type": "code",
     "collapsed": false,
     "input": [
      "def getParamFromAllSites(paramType, paramId, date):\n",
      "    url = 'http://www.baaqmd.gov/Divisions/Technical-Services/Ambient-Air-Monitoring/Air-Monitoring-Data.aspx?DataViewFormat=daily&DataView=%s&StartDate=%s&ParameterId=%s' % (paramType, date, paramId)\n",
      "    print url\n",
      "    body = urllib2.urlopen(url).read()\n",
      "    selector = Selector(text = body)\n",
      "    sites = selector.xpath('//tr[count(td)>=25]')\n",
      "    for site in sites:\n",
      "        sitename = site.xpath('td/a/text()')[0].extract()\n",
      "        values = [float(value) for value in sites[0].xpath('td/div[@class=\"cData\"]/text()').extract()]\n",
      "        print sitename, values\n",
      "\n",
      "getParamFromAllSites('tech', '59', '5/22/2015')"
     ],
     "language": "python",
     "metadata": {},
     "outputs": [
      {
       "output_type": "stream",
       "stream": "stdout",
       "text": [
        "http://www.baaqmd.gov/Divisions/Technical-Services/Ambient-Air-Monitoring/Air-Monitoring-Data.aspx?DataViewFormat=daily&DataView=tech&StartDate=5/22/2015&ParameterId=59\n",
        "Napa"
       ]
      },
      {
       "output_type": "stream",
       "stream": "stdout",
       "text": [
        " [18.0, 21.0, 17.0, 3.0, 3.0, 17.0]\n",
        "San Rafael [18.0, 21.0, 17.0, 3.0, 3.0, 17.0]\n",
        "Sebastopol [18.0, 21.0, 17.0, 3.0, 3.0, 17.0]\n",
        "Vallejo [18.0, 21.0, 17.0, 3.0, 3.0, 17.0]\n",
        "Oakland East [18.0, 21.0, 17.0, 3.0, 3.0, 17.0]\n",
        "Oakland West [18.0, 21.0, 17.0, 3.0, 3.0, 17.0]\n",
        "San Francisco - Arkansas St. [18.0, 21.0, 17.0, 3.0, 3.0, 17.0]\n",
        "San Pablo - Rumrill [18.0, 21.0, 17.0, 3.0, 3.0, 17.0]\n",
        "Bethel Island [18.0, 21.0, 17.0, 3.0, 3.0, 17.0]\n",
        "Concord [18.0, 21.0, 17.0, 3.0, 3.0, 17.0]\n",
        "Fairfield - Chadbourne Rd. [18.0, 21.0, 17.0, 3.0, 3.0, 17.0]\n",
        "Livermore - Rincon Ave. [18.0, 21.0, 17.0, 3.0, 3.0, 17.0]\n",
        "San Ramon [18.0, 21.0, 17.0, 3.0, 3.0, 17.0]\n",
        "Hayward [18.0, 21.0, 17.0, 3.0, 3.0, 17.0]\n",
        "Redwood City [18.0, 21.0, 17.0, 3.0, 3.0, 17.0]\n",
        "Gilroy [18.0, 21.0, 17.0, 3.0, 3.0, 17.0]\n",
        "Los Gatos [18.0, 21.0, 17.0, 3.0, 3.0, 17.0]\n",
        "San Jose - Jackson St. [18.0, 21.0, 17.0, 3.0, 3.0, 17.0]\n",
        "San Martin-Airport [18.0, 21.0, 17.0, 3.0, 3.0, 17.0]\n"
       ]
      }
     ],
     "prompt_number": 106
    },
    {
     "cell_type": "code",
     "collapsed": false,
     "input": [],
     "language": "python",
     "metadata": {},
     "outputs": [],
     "prompt_number": 81
    },
    {
     "cell_type": "code",
     "collapsed": false,
     "input": [],
     "language": "python",
     "metadata": {},
     "outputs": [],
     "prompt_number": 94
    },
    {
     "cell_type": "code",
     "collapsed": false,
     "input": [
      "for site in sites:\n",
      "    sitename = site.xpath('td/a/text()')[0].extract()\n",
      "    values = [float(value) for value in sites[0].xpath('td/div[@class=\"cData\"]/text()').extract()]\n",
      "    print sitename, values"
     ],
     "language": "python",
     "metadata": {},
     "outputs": [
      {
       "output_type": "stream",
       "stream": "stdout",
       "text": [
        "Napa [34.0, 34.0, 35.0, 33.0, 29.0, 24.0, 27.0, 27.0, 26.0, 27.0, 30.0, 33.0, 40.0, 41.0, 40.0]\n",
        "San Rafael [34.0, 34.0, 35.0, 33.0, 29.0, 24.0, 27.0, 27.0, 26.0, 27.0, 30.0, 33.0, 40.0, 41.0, 40.0]\n",
        "Sebastopol [34.0, 34.0, 35.0, 33.0, 29.0, 24.0, 27.0, 27.0, 26.0, 27.0, 30.0, 33.0, 40.0, 41.0, 40.0]\n",
        "Vallejo [34.0, 34.0, 35.0, 33.0, 29.0, 24.0, 27.0, 27.0, 26.0, 27.0, 30.0, 33.0, 40.0, 41.0, 40.0]\n",
        "Oakland East [34.0, 34.0, 35.0, 33.0, 29.0, 24.0, 27.0, 27.0, 26.0, 27.0, 30.0, 33.0, 40.0, 41.0, 40.0]\n",
        "Oakland West [34.0, 34.0, 35.0, 33.0, 29.0, 24.0, 27.0, 27.0, 26.0, 27.0, 30.0, 33.0, 40.0, 41.0, 40.0]\n",
        "San Francisco - Arkansas St. [34.0, 34.0, 35.0, 33.0, 29.0, 24.0, 27.0, 27.0, 26.0, 27.0, 30.0, 33.0, 40.0, 41.0, 40.0]\n",
        "San Pablo - Rumrill [34.0, 34.0, 35.0, 33.0, 29.0, 24.0, 27.0, 27.0, 26.0, 27.0, 30.0, 33.0, 40.0, 41.0, 40.0]\n",
        "Bethel Island [34.0, 34.0, 35.0, 33.0, 29.0, 24.0, 27.0, 27.0, 26.0, 27.0, 30.0, 33.0, 40.0, 41.0, 40.0]\n",
        "Concord [34.0, 34.0, 35.0, 33.0, 29.0, 24.0, 27.0, 27.0, 26.0, 27.0, 30.0, 33.0, 40.0, 41.0, 40.0]\n",
        "Fairfield - Chadbourne Rd. [34.0, 34.0, 35.0, 33.0, 29.0, 24.0, 27.0, 27.0, 26.0, 27.0, 30.0, 33.0, 40.0, 41.0, 40.0]\n",
        "Livermore - Rincon Ave. [34.0, 34.0, 35.0, 33.0, 29.0, 24.0, 27.0, 27.0, 26.0, 27.0, 30.0, 33.0, 40.0, 41.0, 40.0]\n",
        "San Ramon [34.0, 34.0, 35.0, 33.0, 29.0, 24.0, 27.0, 27.0, 26.0, 27.0, 30.0, 33.0, 40.0, 41.0, 40.0]\n",
        "Hayward [34.0, 34.0, 35.0, 33.0, 29.0, 24.0, 27.0, 27.0, 26.0, 27.0, 30.0, 33.0, 40.0, 41.0, 40.0]\n",
        "Redwood City [34.0, 34.0, 35.0, 33.0, 29.0, 24.0, 27.0, 27.0, 26.0, 27.0, 30.0, 33.0, 40.0, 41.0, 40.0]\n",
        "Gilroy [34.0, 34.0, 35.0, 33.0, 29.0, 24.0, 27.0, 27.0, 26.0, 27.0, 30.0, 33.0, 40.0, 41.0, 40.0]\n",
        "Los Gatos [34.0, 34.0, 35.0, 33.0, 29.0, 24.0, 27.0, 27.0, 26.0, 27.0, 30.0, 33.0, 40.0, 41.0, 40.0]\n",
        "San Jose - Jackson St. [34.0, 34.0, 35.0, 33.0, 29.0, 24.0, 27.0, 27.0, 26.0, 27.0, 30.0, 33.0, 40.0, 41.0, 40.0]\n",
        "San Martin-Airport [34.0, 34.0, 35.0, 33.0, 29.0, 24.0, 27.0, 27.0, 26.0, 27.0, 30.0, 33.0, 40.0, 41.0, 40.0]\n"
       ]
      }
     ],
     "prompt_number": 105
    },
    {
     "cell_type": "code",
     "collapsed": false,
     "input": [
      "sites[0]"
     ],
     "language": "python",
     "metadata": {},
     "outputs": [
      {
       "metadata": {},
       "output_type": "pyout",
       "prompt_number": 93,
       "text": [
        "<Selector xpath='//tr[count(td)>=25]' data=u'<tr class=\"dataSep\">\\r\\n        <td class='>"
       ]
      }
     ],
     "prompt_number": 93
    },
    {
     "cell_type": "code",
     "collapsed": false,
     "input": [
      "sites[0].xpath('td/div[@class=\"cData\"]/text()').extract()"
     ],
     "language": "python",
     "metadata": {},
     "outputs": [
      {
       "metadata": {},
       "output_type": "pyout",
       "prompt_number": 103,
       "text": [
        "[u'34',\n",
        " u'34',\n",
        " u'35',\n",
        " u'33',\n",
        " u'29',\n",
        " u'24',\n",
        " u'27',\n",
        " u'27',\n",
        " u'26',\n",
        " u'27',\n",
        " u'30',\n",
        " u'33',\n",
        " u'40',\n",
        " u'41',\n",
        " u'40']"
       ]
      }
     ],
     "prompt_number": 103
    },
    {
     "cell_type": "code",
     "collapsed": false,
     "input": [],
     "language": "python",
     "metadata": {},
     "outputs": []
    }
   ],
   "metadata": {}
  }
 ]
}