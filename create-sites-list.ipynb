{
 "metadata": {
  "name": "",
  "signature": "sha256:47e4f6f7746becf9efa8e1f79846cbd967d2a906c7a9d5ba8556ac8ea52bdd5b"
 },
 "nbformat": 3,
 "nbformat_minor": 0,
 "worksheets": [
  {
   "cells": [
    {
     "cell_type": "markdown",
     "metadata": {},
     "source": [
      "In May of 2015, David Holstius shared historical 1-hour data:  DMS_1h_all.zip\n",
      "53 megabytes.\n",
      "\n",
      "-rw-r-----@ 1 rsargent  staff  53775491 May 28  2015 DMS_1h_all.zip\n",
      "\n",
      "This archive includes lat and lon locations for the various stations.\n",
      "\n",
      "This script parses that data solely to find lat and lon for the stations, and saves the map between site ID and location to sites.json.\n",
      "\n",
      "Note that this script DOES NOT read old data from these files to upload to ESDR.  Presumably it's not needed since we can scrapte that data already, but it's worth noting that uploading directly from these files could be a possibility.\n"
     ]
    },
    {
     "cell_type": "code",
     "collapsed": false,
     "input": [
      "!ls -l DMS_1h_all.zip"
     ],
     "language": "python",
     "metadata": {},
     "outputs": [
      {
       "output_type": "stream",
       "stream": "stdout",
       "text": [
        "-rw-r-----@ 1 rsargent  staff  53775491 May 28  2015 DMS_1h_all.zip\r\n"
       ]
      }
     ],
     "prompt_number": 2
    },
    {
     "cell_type": "code",
     "collapsed": false,
     "input": [
      "import csv, glob, json, re"
     ],
     "language": "python",
     "metadata": {},
     "outputs": [],
     "prompt_number": 3
    },
    {
     "cell_type": "code",
     "collapsed": false,
     "input": [
      "sites = {}\n",
      "\n",
      "for filename in reversed(sorted(glob.glob('DMS_1h_all/????/DMS_1h_all-????????.csv'))):\n",
      "    reader = csv.reader(open(filename))\n",
      "\n",
      "    headings = reader.next()\n",
      "\n",
      "    siteNameIdx = headings.index('Site')\n",
      "    stationIdIdx = headings.index('StationID')\n",
      "    latIdx = headings.index('Latitude')\n",
      "    lonIdx = headings.index('Longitude')\n",
      "\n",
      "    for row in reader:\n",
      "        siteId = row[stationIdIdx]\n",
      "        if not siteId in sites:\n",
      "            # Remove m_ from beginning of name, if present\n",
      "            name = re.sub(r'^m_', '', row[siteNameIdx])\n",
      "            sites[siteId] = {\n",
      "                'name': name,\n",
      "                'latitude': float(row[latIdx]),\n",
      "                'longitude': float(row[lonIdx])\n",
      "            }\n",
      "            print '%s: found site %s: %s' % (filename, siteId, sites[siteId])\n"
     ],
     "language": "python",
     "metadata": {},
     "outputs": [
      {
       "output_type": "stream",
       "stream": "stdout",
       "text": [
        "DMS_1h_all/2015/DMS_1h_all-20150526.csv: found site 5906: {'latitude': 37.78373, 'name': 'Air District Office', 'longitude': -122.42163}\n",
        "DMS_1h_all/2015/DMS_1h_all-20150526.csv: found site 2021: {'latitude': 38.006311, 'name': 'Bethel Island', 'longitude': -121.641918}\n",
        "DMS_1h_all/2015/DMS_1h_all-20150526.csv: found site 2036: {'latitude': 37.936013, 'name': 'Concord - 2956-A Treat Blvd', 'longitude': -122.026154}\n",
        "DMS_1h_all/2015/DMS_1h_all-20150526.csv: found site 2017: {'latitude': 38.05492, 'name': 'Crockett - Kendall Ave', 'longitude': -122.233229}\n",
        "DMS_1h_all/2015/DMS_1h_all-20150526.csv: found site 99906: {'latitude': 38.0, 'name': 'eLog_QC Templates', 'longitude': -124.0}\n",
        "DMS_1h_all/2015/DMS_1h_all-20150526.csv: found site 8007: {'latitude': 38.227066, 'name': 'Fairfield - Chadbourne Rd.', 'longitude': -122.075624}\n",
        "DMS_1h_all/2015/DMS_1h_all-20150526.csv: found site 3009: {'latitude': 38.015136, 'name': 'Forest Knolls', 'longitude': -122.689531}\n",
        "DMS_1h_all/2015/DMS_1h_all-20150526.csv: found site 7015: {'latitude': 36.999571, 'name': 'Gilroy - 9th St', 'longitude': -121.574684}\n",
        "DMS_1h_all/2015/DMS_1h_all-20150526.csv: found site 1015: {'latitude': 37.654456, 'name': 'Hayward - La Mesa', 'longitude': -122.031547}\n",
        "DMS_1h_all/2015/DMS_1h_all-20150526.csv: found site 1029: {'latitude': 37.793624, 'name': 'Laney College', 'longitude': -122.263376}\n",
        "DMS_1h_all/2015/DMS_1h_all-20150526.csv: found site 1023: {'latitude': 37.687526, 'name': 'Livermore - Rincon Ave.', 'longitude': -121.784217}\n",
        "DMS_1h_all/2015/DMS_1h_all-20150526.csv: found site 7006: {'latitude': 37.226862, 'name': 'Los Gatos', 'longitude': -121.979675}\n",
        "DMS_1h_all/2015/DMS_1h_all-20150526.csv: found site 1805: {'latitude': 37.877128, 'name': 'Berkeley Lab', 'longitude': -122.248569}\n",
        "DMS_1h_all/2015/DMS_1h_all-20150526.csv: found site 1903: {'latitude': 37.72081, 'name': 'Chabot', 'longitude': -122.09914}\n",
        "DMS_1h_all/2015/DMS_1h_all-20150526.csv: found site 5905: {'latitude': 37.71481, 'name': 'Fort Funston', 'longitude': -122.50047}\n",
        "DMS_1h_all/2015/DMS_1h_all-20150526.csv: found site 4902: {'latitude': 38.2785, 'name': 'Napa', 'longitude': -122.27825}\n",
        "DMS_1h_all/2015/DMS_1h_all-20150526.csv: found site 1804: {'latitude': 37.82575, 'name': 'Oakland STP', 'longitude': -122.29886}\n",
        "DMS_1h_all/2015/DMS_1h_all-20150526.csv: found site 1905: {'latitude': 37.69875, 'name': 'Pleasanton', 'longitude': -121.91331}\n",
        "DMS_1h_all/2015/DMS_1h_all-20150526.csv: found site 2907: {'latitude': 37.96186, 'name': 'Pt. San Pablo', 'longitude': -122.42333}\n",
        "DMS_1h_all/2015/DMS_1h_all-20150526.csv: found site 8901: {'latitude': 38.18839, 'name': 'Rio Vista', 'longitude': -121.70564}\n",
        "DMS_1h_all/2015/DMS_1h_all-20150526.csv: found site 6901: {'latitude': 37.51706, 'name': 'San Carlos', 'longitude': -122.25181}\n",
        "DMS_1h_all/2015/DMS_1h_all-20150526.csv: found site 5801: {'latitude': 37.74053, 'name': 'San Francisco STP', 'longitude': -122.39133}\n",
        "DMS_1h_all/2015/DMS_1h_all-20150526.csv: found site 9903: {'latitude': 38.13161, 'name': 'Sonoma Baylands', 'longitude': -122.47467}\n",
        "DMS_1h_all/2015/DMS_1h_all-20150526.csv: found site 3902: {'latitude': 38.30836, 'name': 'Valley Ford', 'longitude': -122.89744}\n",
        "DMS_1h_all/2015/DMS_1h_all-20150526.csv: found site 2014: {'latitude': 38.012816, 'name': 'Martinez - Jones St', 'longitude': -122.134467}\n",
        "DMS_1h_all/2015/DMS_1h_all-20150526.csv: found site 4001: {'latitude': 38.310942, 'name': 'Napa - Jefferson St', 'longitude': -122.296189}\n",
        "DMS_1h_all/2015/DMS_1h_all-20150526.csv: found site 99907: {'latitude': 37.81715, 'name': 'Oakland E Shop', 'longitude': -122.28048}\n",
        "DMS_1h_all/2015/DMS_1h_all-20150526.csv: found site 1025: {'latitude': 37.743065, 'name': 'Oakland East', 'longitude': -122.169935}\n",
        "DMS_1h_all/2015/DMS_1h_all-20150526.csv: found site 1027: {'latitude': 37.814781, 'name': 'Oakland West', 'longitude': -122.282347}\n",
        "DMS_1h_all/2015/DMS_1h_all-20150526.csv: found site 1028: {'latitude': 37.689615, 'name': 'Patterson Pass', 'longitude': -121.631916}\n",
        "DMS_1h_all/2015/DMS_1h_all-20150526.csv: found site 2013: {'latitude': 37.926162, 'name': 'Pt. Richmond', 'longitude': -122.385561}\n",
        "DMS_1h_all/2015/DMS_1h_all-20150526.csv: found site 6004: {'latitude': 37.482934, 'name': 'Redwood City', 'longitude': -122.2035}\n",
        "DMS_1h_all/2015/DMS_1h_all-20150526.csv: found site 2019: {'latitude': 37.948172, 'name': 'Richmond - 7th St', 'longitude': -122.364852}\n",
        "DMS_1h_all/2015/DMS_1h_all-20150526.csv: found site 2034: {'latitude': 38.034331, 'name': 'Rodeo', 'longitude': -122.270336}\n",
        "DMS_1h_all/2015/DMS_1h_all-20150526.csv: found site 5011: {'latitude': 37.765946, 'name': 'San Francisco - Arkansas St.', 'longitude': -122.399044}\n",
        "DMS_1h_all/2015/DMS_1h_all-20150526.csv: found site 7032: {'latitude': 37.348497, 'name': 'San Jose - Jackson St.', 'longitude': -121.894898}\n",
        "DMS_1h_all/2015/DMS_1h_all-20150526.csv: found site 7039: {'latitude': 37.338135, 'name': 'San Jose - Knox Av', 'longitude': -121.849783}\n",
        "DMS_1h_all/2015/DMS_1h_all-20150526.csv: found site 7022: {'latitude': 37.079379, 'name': 'San Martin-Airport', 'longitude': -121.600031}\n",
        "DMS_1h_all/2015/DMS_1h_all-20150526.csv: found site 2035: {'latitude': 37.9604, 'name': 'San Pablo - Rumrill', 'longitude': -122.356811}\n",
        "DMS_1h_all/2015/DMS_1h_all-20150526.csv: found site 3005: {'latitude': 37.97231, 'name': 'San Rafael', 'longitude': -122.520004}\n",
        "DMS_1h_all/2015/DMS_1h_all-20150526.csv: found site 2037: {'latitude': 37.743649, 'name': 'San Ramon', 'longitude': -121.934188}\n",
        "DMS_1h_all/2015/DMS_1h_all-20150526.csv: found site 9005: {'latitude': 38.403765, 'name': 'Sebastopol', 'longitude': -122.818294}\n",
        "DMS_1h_all/2015/DMS_1h_all-20150526.csv: found site 99901: {'latitude': 38.0, 'name': 'Test1', 'longitude': -124.0}\n",
        "DMS_1h_all/2015/DMS_1h_all-20150526.csv: found site 99902: {'latitude': 38.0, 'name': 'Test2', 'longitude': -124.0}\n",
        "DMS_1h_all/2015/DMS_1h_all-20150526.csv: found site 99903: {'latitude': 38.0, 'name': 'Test3', 'longitude': -124.0}\n",
        "DMS_1h_all/2015/DMS_1h_all-20150526.csv: found site 8004: {'latitude': 38.102507, 'name': 'Vallejo - Tuolumne St', 'longitude': -122.237976}\n",
        "DMS_1h_all/2015/DMS_1h_all-20150430.csv: found site 2273: {'latitude': 38.054113, 'name': 'ConocoPhillips Crockett', 'longitude': -122.217148}"
       ]
      },
      {
       "output_type": "stream",
       "stream": "stdout",
       "text": [
        "\n",
        "DMS_1h_all/2015/DMS_1h_all-20150430.csv: found site 2263: {'latitude': 38.02816, 'name': 'ConocoPhillips Cummings Skyway', 'longitude': -122.206872}\n",
        "DMS_1h_all/2015/DMS_1h_all-20150430.csv: found site 2271: {'latitude': 38.044758, 'name': 'ConocoPhillips E Refinery', 'longitude': -122.2367}\n",
        "DMS_1h_all/2015/DMS_1h_all-20150430.csv: found site 2274: {'latitude': 38.033572, 'name': 'ConocoPhillips Hillcrest', 'longitude': -122.258536}\n",
        "DMS_1h_all/2015/DMS_1h_all-20150430.csv: found site 2275: {'latitude': 38.048699, 'name': 'ConocoPhillips Tormey', 'longitude': -122.248809}\n",
        "DMS_1h_all/2015/DMS_1h_all-20150430.csv: found site 2763: {'latitude': 38.02815, 'name': 'ConocoPhillips Cummings', 'longitude': -122.2069}\n",
        "DMS_1h_all/2015/DMS_1h_all-20150430.csv: found site 2774: {'latitude': 38.03358, 'name': 'ConocoPhillips Hillcrest', 'longitude': -122.2586}\n",
        "DMS_1h_all/2015/DMS_1h_all-20150430.csv: found site 2771: {'latitude': 38.04008, 'name': 'ConocoPhillips Rodeo', 'longitude': -122.2611}\n",
        "DMS_1h_all/2015/DMS_1h_all-20150430.csv: found site 0616: {'latitude': 40.978, 'name': 'KACV - Arcata', 'longitude': -124.109}\n",
        "DMS_1h_all/2015/DMS_1h_all-20150430.csv: found site 4601: {'latitude': 38.207506, 'name': 'KAPC - Napa', 'longitude': -122.280388}\n",
        "DMS_1h_all/2015/DMS_1h_all-20150430.csv: found site 0615: {'latitude': 35.434259, 'name': 'KBFL - Bakersfield', 'longitude': -119.055212}\n",
        "DMS_1h_all/2015/DMS_1h_all-20150430.csv: found site 2601: {'latitude': 37.991686, 'name': 'KCCR - Concord', 'longitude': -122.052641}\n",
        "DMS_1h_all/2015/DMS_1h_all-20150430.csv: found site 0613: {'latitude': 36.780002, 'name': 'KFAT - Fresno', 'longitude': -119.720149}\n",
        "DMS_1h_all/2015/DMS_1h_all-20150430.csv: found site 0614: {'latitude': 36.311429, 'name': 'KHJO - Hanford', 'longitude': -119.623159}\n",
        "DMS_1h_all/2015/DMS_1h_all-20150430.csv: found site 1602: {'latitude': 37.660221, 'name': 'KHWD - Hayward', 'longitude': -122.11907}\n",
        "DMS_1h_all/2015/DMS_1h_all-20150430.csv: found site 1603: {'latitude': 37.693115, 'name': 'KLVK - Livermore', 'longitude': -121.814759}\n",
        "DMS_1h_all/2015/DMS_1h_all-20150430.csv: found site 0612: {'latitude': 36.985047, 'name': 'KMAE - Madera', 'longitude': -120.110653}\n",
        "DMS_1h_all/2015/DMS_1h_all-20150430.csv: found site 0611: {'latitude': 37.285917, 'name': 'KMCE - Merced', 'longitude': -120.517981}\n",
        "DMS_1h_all/2015/DMS_1h_all-20150430.csv: found site 0601: {'latitude': 37.625441, 'name': 'KMOD - Modesto', 'longitude': -120.954897}\n",
        "DMS_1h_all/2015/DMS_1h_all-20150430.csv: found site 0609: {'latitude': 39.102032, 'name': 'KMYV - Marysville', 'longitude': -121.568812}\n",
        "DMS_1h_all/2015/DMS_1h_all-20150430.csv: found site 7602: {'latitude': 37.405912, 'name': 'KNUQ - Moffet NAS', 'longitude': -122.04904}\n",
        "DMS_1h_all/2015/DMS_1h_all-20150430.csv: found site 1601: {'latitude': 37.717821, 'name': 'KOAK - Oakland', 'longitude': -122.232936}\n",
        "DMS_1h_all/2015/DMS_1h_all-20150430.csv: found site 0608: {'latitude': 39.4943, 'name': 'KOVE - Oroville', 'longitude': -121.622247}\n",
        "DMS_1h_all/2015/DMS_1h_all-20150430.csv: found site 0607: {'latitude': 40.151864, 'name': 'KRBL - Red Bluff', 'longitude': -122.254769}\n",
        "DMS_1h_all/2015/DMS_1h_all-20150430.csv: found site 0606: {'latitude': 40.514602, 'name': 'KRDD - Redding', 'longitude': -122.297697}\n",
        "DMS_1h_all/2015/DMS_1h_all-20150430.csv: found site 0602: {'latitude': 38.506584, 'name': 'KSAC - Sacramento Exec', 'longitude': -121.496021}\n",
        "DMS_1h_all/2015/DMS_1h_all-20150430.csv: found site 0604: {'latitude': 37.889967, 'name': 'KSCK - Stockton', 'longitude': -121.226354}\n",
        "DMS_1h_all/2015/DMS_1h_all-20150430.csv: found site 5601: {'latitude': 37.619636, 'name': 'KSFO - San Francisco', 'longitude': -122.365578}\n",
        "DMS_1h_all/2015/DMS_1h_all-20150430.csv: found site 7601: {'latitude': 37.359403, 'name': 'KSJC - San Jose', 'longitude': -121.924423}\n",
        "DMS_1h_all/2015/DMS_1h_all-20150430.csv: found site 0603: {'latitude': 38.700705, 'name': 'KSMF - Sacramento Metro', 'longitude': -121.59477}\n",
        "DMS_1h_all/2015/DMS_1h_all-20150430.csv: found site 9601: {'latitude': 38.503683, 'name': 'KSTS - Santa Rosa', 'longitude': -122.810972}\n",
        "DMS_1h_all/2015/DMS_1h_all-20150430.csv: found site 0610: {'latitude': 38.377535, 'name': 'KVCB - Vacaville', 'longitude': -121.958537}\n",
        "DMS_1h_all/2015/DMS_1h_all-20150430.csv: found site 0617: {'latitude': 40.901796, 'name': 'KWMC - Winnemucca', 'longitude': -117.808207}\n",
        "DMS_1h_all/2015/DMS_1h_all-20150430.csv: found site 0605: {'latitude': 36.939363, 'name': 'KWVI - Watsonville', 'longitude': -121.789982}\n",
        "DMS_1h_all/2015/DMS_1h_all-20150430.csv: found site 2742: {'latitude': 38.01439, 'name': 'Shell East', 'longitude': -122.1036}\n",
        "DMS_1h_all/2015/DMS_1h_all-20150430.csv: found site 2743: {'latitude': 38.02597, 'name': 'Shell West', 'longitude': -122.1297}\n",
        "DMS_1h_all/2015/DMS_1h_all-20150430.csv: found site 8704: {'latitude': 38.07444, 'name': 'Valero Admin', 'longitude': -122.1444}\n",
        "DMS_1h_all/2015/DMS_1h_all-20150430.csv: found site 8702: {'latitude': 38.07228, 'name': 'Valero Warehouse', 'longitude': -122.1265}\n",
        "DMS_1h_all/2015/DMS_1h_all-20150430.csv: found site 2242: {'latitude': 38.012304, 'name': 'Shell Ace Hardware', 'longitude': -122.105158}\n",
        "DMS_1h_all/2015/DMS_1h_all-20150430.csv: found site 2244: {'latitude': 38.024975, 'name': 'Shell East Levee Gate', 'longitude': -122.123281}\n",
        "DMS_1h_all/2015/DMS_1h_all-20150430.csv: found site 2243: {'latitude': 38.018579, 'name': 'Shell Mt. View', 'longitude': -122.101955}\n",
        "DMS_1h_all/2015/DMS_1h_all-20150430.csv: found site 2241: {'latitude': 38.016792, 'name': 'Shell Shell Ave', 'longitude': -122.11771}\n",
        "DMS_1h_all/2015/DMS_1h_all-20150430.csv: found site 8201: {'latitude': 38.059536, 'name': 'Valero Gas Station', 'longitude': -122.149563}\n",
        "DMS_1h_all/2015/DMS_1h_all-20150430.csv: found site 8202: {'latitude': 38.072178, 'name': 'Valero Warehouse', 'longitude': -122.126793}\n",
        "DMS_1h_all/2015/DMS_1h_all-20150430.csv: found site 8203: {'latitude': 38.067442, 'name': 'Valero Wastewater', 'longitude': -122.123712}\n",
        "DMS_1h_all/2015/DMS_1h_all-20150331.csv: found site 2201: {'latitude': 37.94281, 'name': 'Chevron Castro', 'longitude': -122.375436}"
       ]
      },
      {
       "output_type": "stream",
       "stream": "stdout",
       "text": [
        "\n",
        "DMS_1h_all/2015/DMS_1h_all-20150331.csv: found site 2203: {'latitude': 37.953808, 'name': 'Chevron Gertrude', 'longitude': -122.379557}\n",
        "DMS_1h_all/2015/DMS_1h_all-20150331.csv: found site 2202: {'latitude': 37.931018, 'name': 'Chevron Golden Gate', 'longitude': -122.394256}\n",
        "DMS_1h_all/2015/DMS_1h_all-20150331.csv: found site 2703: {'latitude': 37.95383, 'name': 'Chevron', 'longitude': -122.3797}\n",
        "DMS_1h_all/2015/DMS_1h_all-20150331.csv: found site 2752: {'latitude': 38.03128, 'name': 'Tesoro', 'longitude': -122.0782}\n",
        "DMS_1h_all/2015/DMS_1h_all-20150331.csv: found site 2252: {'latitude': 38.022655, 'name': 'Tesoro Chenery', 'longitude': -122.043313}\n",
        "DMS_1h_all/2015/DMS_1h_all-20150331.csv: found site 2254: {'latitude': 38.016957, 'name': 'Tesoro Gun Club', 'longitude': -122.080762}\n",
        "DMS_1h_all/2015/DMS_1h_all-20150331.csv: found site 2253: {'latitude': 38.032259, 'name': 'Tesoro Pacheco Slough', 'longitude': -122.080098}\n",
        "DMS_1h_all/2015/DMS_1h_all-20150331.csv: found site 2251: {'latitude': 38.035542, 'name': 'Tesoro Waterfront', 'longitude': -122.071872}\n",
        "DMS_1h_all/2015/DMS_1h_all-20150202.csv: found site 6801: {'latitude': 37.56833, 'name': 'San Mateo STP', 'longitude': -122.2035}"
       ]
      },
      {
       "output_type": "stream",
       "stream": "stdout",
       "text": [
        "\n",
        "DMS_1h_all/2015/DMS_1h_all-20150108.csv: found site 7803: {'latitude': 37.42936, 'name': 'Stanford', 'longitude': -122.18533}"
       ]
      },
      {
       "output_type": "stream",
       "stream": "stdout",
       "text": [
        "\n",
        "DMS_1h_all/2014/DMS_1h_all-20141231.csv: found site 2802: {'latitude': 37.999615, 'name': 'Concord STP', 'longitude': -122.068726}"
       ]
      },
      {
       "output_type": "stream",
       "stream": "stdout",
       "text": [
        "\n",
        "DMS_1h_all/2014/DMS_1h_all-20141231.csv: found site 2804: {'latitude': 38.01533, 'name': 'Contra Costa Power', 'longitude': -121.7623}\n",
        "DMS_1h_all/2014/DMS_1h_all-20141231.csv: found site 2803: {'latitude': 38.02044, 'name': 'Dow Chemical', 'longitude': -121.8459}\n",
        "DMS_1h_all/2014/DMS_1h_all-20141231.csv: found site 7802: {'latitude': 37.31561, 'name': 'Kaiser Cement', 'longitude': -122.0918}\n",
        "DMS_1h_all/2014/DMS_1h_all-20141231.csv: found site 1801: {'latitude': 37.694, 'name': 'Livermore Lab', 'longitude': -121.7163}\n",
        "DMS_1h_all/2014/DMS_1h_all-20141231.csv: found site 6802: {'latitude': 37.54544, 'name': 'Silicon Valley Clean Water', 'longitude': -122.2316}\n",
        "DMS_1h_all/2014/DMS_1h_all-20141231.csv: found site 1811: {'latitude': 37.67526, 'name': 'Site 300', 'longitude': -121.541}\n",
        "DMS_1h_all/2014/DMS_1h_all-20141231.csv: found site 8802: {'latitude': 38.405422, 'name': 'Vaca-Dixon', 'longitude': -121.919233}\n",
        "DMS_1h_all/2014/DMS_1h_all-20140610.csv: found site 9902: {'latitude': 38.41736, 'name': 'Santa Rosa', 'longitude': -122.76167}"
       ]
      },
      {
       "output_type": "stream",
       "stream": "stdout",
       "text": [
        "\n",
        "DMS_1h_all/2014/DMS_1h_all-20140507.csv: found site 2905: {'latitude': 37.94311, 'name': 'Kregor Peak', 'longitude': -121.89117}"
       ]
      },
      {
       "output_type": "stream",
       "stream": "stdout",
       "text": [
        "\n",
        "DMS_1h_all/2014/DMS_1h_all-20140409.csv: found site 8903: {'latitude': 38.102506, 'name': 'Vallejo', 'longitude': -122.23805}"
       ]
      },
      {
       "output_type": "stream",
       "stream": "stdout",
       "text": [
        "\n"
       ]
      }
     ],
     "prompt_number": 4
    },
    {
     "cell_type": "markdown",
     "metadata": {},
     "source": [
      "## There seem to be 113 sites!"
     ]
    },
    {
     "cell_type": "code",
     "collapsed": false,
     "input": [
      "len(sites)"
     ],
     "language": "python",
     "metadata": {},
     "outputs": [
      {
       "metadata": {},
       "output_type": "pyout",
       "prompt_number": 5,
       "text": [
        "113"
       ]
      }
     ],
     "prompt_number": 5
    },
    {
     "cell_type": "code",
     "collapsed": false,
     "input": [
      "open('sites.json', 'w').write(json.dumps(sites))\n",
      "print 'Wrote %d sites to sites.json' % len(sites)"
     ],
     "language": "python",
     "metadata": {},
     "outputs": [
      {
       "output_type": "stream",
       "stream": "stdout",
       "text": [
        "Wrote 113 sites to sites.json\n"
       ]
      }
     ],
     "prompt_number": 6
    },
    {
     "cell_type": "code",
     "collapsed": false,
     "input": [],
     "language": "python",
     "metadata": {},
     "outputs": []
    }
   ],
   "metadata": {}
  }
 ]
}